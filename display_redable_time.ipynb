{
 "cells": [
  {
   "cell_type": "code",
   "execution_count": 46,
   "metadata": {},
   "outputs": [],
   "source": [
    "def display_redable_time(time):\n",
    "    \"\"\"\n",
    "    time: elapsed_time[sec]\n",
    "    \"\"\"\n",
    "    hour = time // 3600\n",
    "    mini = (time % 3600) // 60 \n",
    "    sec = (time % 3600) % 60 \n",
    "    \n",
    "    print(\"{0}時間 {1}分 {2}秒\".format(hour, mini, sec))"
   ]
  },
  {
   "cell_type": "code",
   "execution_count": 49,
   "metadata": {},
   "outputs": [],
   "source": [
    "elapsed_time = 36"
   ]
  },
  {
   "cell_type": "code",
   "execution_count": 50,
   "metadata": {},
   "outputs": [
    {
     "name": "stdout",
     "output_type": "stream",
     "text": [
      "0時間 0分 36秒\n"
     ]
    }
   ],
   "source": [
    "display_redable_time(elapsed_time)"
   ]
  },
  {
   "cell_type": "code",
   "execution_count": 51,
   "metadata": {},
   "outputs": [
    {
     "name": "stdout",
     "output_type": "stream",
     "text": [
      "[NbConvertApp] Converting notebook display_redable_time.ipynb to script\n",
      "[NbConvertApp] Writing 332 bytes to display_redable_time.py\n"
     ]
    }
   ],
   "source": [
    "!jupyter nbconvert --to script display_redable_time.ipynb"
   ]
  },
  {
   "cell_type": "code",
   "execution_count": null,
   "metadata": {},
   "outputs": [],
   "source": []
  },
  {
   "cell_type": "code",
   "execution_count": null,
   "metadata": {},
   "outputs": [],
   "source": []
  }
 ],
 "metadata": {
  "kernelspec": {
   "display_name": "Python 3",
   "language": "python",
   "name": "python3"
  },
  "language_info": {
   "codemirror_mode": {
    "name": "ipython",
    "version": 3
   },
   "file_extension": ".py",
   "mimetype": "text/x-python",
   "name": "python",
   "nbconvert_exporter": "python",
   "pygments_lexer": "ipython3",
   "version": "3.6.5"
  }
 },
 "nbformat": 4,
 "nbformat_minor": 2
}
